{
 "cells": [
  {
   "cell_type": "code",
   "execution_count": 14,
   "id": "7438d07f",
   "metadata": {},
   "outputs": [
    {
     "data": {
      "text/plain": [
       "False"
      ]
     },
     "execution_count": 14,
     "metadata": {},
     "output_type": "execute_result"
    }
   ],
   "source": [
    "# a = 10\n",
    "# b = 10\n",
    "# a is b\n",
    "# op -->  True\n",
    "\n",
    "# lis1 = []\n",
    "# lis2 = []\n",
    "# lis1 is lis2\n",
    "# op -->  False\n",
    "\n",
    "# x = 256\n",
    "# y = 256\n",
    "# x is y\n",
    "# op -->  True\n",
    "\n",
    "# x = 257\n",
    "# y = 257\n",
    "# x is y\n",
    "# op -->  False\n",
    "\n",
    "# x = -5\n",
    "# y = -5\n",
    "# x is y\n",
    "# op -->  True\n",
    "\n",
    "# x = -6\n",
    "# y = -6\n",
    "# x is y\n",
    "# op -->  False\n",
    "\n",
    "# x = 250.12\n",
    "# y = 250.12\n",
    "# x is y\n",
    "# op -->  False\n"
   ]
  },
  {
   "cell_type": "code",
   "execution_count": 16,
   "id": "7c4a9bef",
   "metadata": {},
   "outputs": [
    {
     "data": {
      "text/plain": [
       "True"
      ]
     },
     "execution_count": 16,
     "metadata": {},
     "output_type": "execute_result"
    }
   ],
   "source": [
    "a = 'aaaaaaaaaaa'\n",
    "b = 'aaaaaaaaaaa'\n",
    "a is b"
   ]
  },
  {
   "cell_type": "code",
   "execution_count": 24,
   "id": "2ee415fd",
   "metadata": {},
   "outputs": [
    {
     "data": {
      "text/plain": [
       "37"
      ]
     },
     "execution_count": 24,
     "metadata": {},
     "output_type": "execute_result"
    }
   ],
   "source": [
    "a = 'inciusbciwbcihcbuyvchiqbcuqqhwcxuqwvc'\n",
    "b = 'inciusbciwbcihcbuyvchiqbcuqqhwcxuqwvc'\n",
    "a is b\n",
    "len(a)"
   ]
  },
  {
   "cell_type": "code",
   "execution_count": 23,
   "id": "17416eb1",
   "metadata": {},
   "outputs": [
    {
     "data": {
      "text/plain": [
       "True"
      ]
     },
     "execution_count": 23,
     "metadata": {},
     "output_type": "execute_result"
    }
   ],
   "source": [
    "a = ()\n",
    "b = ()\n",
    "a is b"
   ]
  },
  {
   "cell_type": "code",
   "execution_count": null,
   "id": "09e8cd0f",
   "metadata": {},
   "outputs": [],
   "source": []
  }
 ],
 "metadata": {
  "kernelspec": {
   "display_name": "Python 3 (ipykernel)",
   "language": "python",
   "name": "python3"
  },
  "language_info": {
   "codemirror_mode": {
    "name": "ipython",
    "version": 3
   },
   "file_extension": ".py",
   "mimetype": "text/x-python",
   "name": "python",
   "nbconvert_exporter": "python",
   "pygments_lexer": "ipython3",
   "version": "3.9.7"
  }
 },
 "nbformat": 4,
 "nbformat_minor": 5
}
