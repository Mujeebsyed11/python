{
 "cells": [
  {
   "cell_type": "code",
   "execution_count": 31,
   "id": "2ced0ce2",
   "metadata": {},
   "outputs": [
    {
     "name": "stdout",
     "output_type": "stream",
     "text": [
      "meow\n",
      "meow\n",
      "bow\n"
     ]
    }
   ],
   "source": [
    "class animal:\n",
    "    def cat(self):\n",
    "        print('meow')\n",
    "    def dog():\n",
    "        print('bow')\n",
    "a = animal()\n",
    "a.cat()\n",
    "\n",
    "animal.cat(a)\n",
    "\n",
    "animal.dog()\n"
   ]
  },
  {
   "cell_type": "code",
   "execution_count": null,
   "id": "bf8031c3",
   "metadata": {},
   "outputs": [],
   "source": [
    "# CLASS is a blue print of a object \n",
    "# we can create class using class keyword as follows\n",
    "class computer:\n",
    "    pass\n",
    "# here i am creating a class with the name of computer"
   ]
  },
  {
   "cell_type": "code",
   "execution_count": 1,
   "id": "9f91d2d1",
   "metadata": {},
   "outputs": [],
   "source": [
    "# now i try to write a method in side a class to return the configuration of a computer with the name of config()\n",
    "class computer:\n",
    "    def config(self):\n",
    "        print('air m1, 8gb, 256gb')"
   ]
  },
  {
   "cell_type": "code",
   "execution_count": 2,
   "id": "7fe758e6",
   "metadata": {},
   "outputs": [],
   "source": [
    "com1 = computer()"
   ]
  },
  {
   "cell_type": "code",
   "execution_count": 4,
   "id": "460dd4bf",
   "metadata": {},
   "outputs": [
    {
     "name": "stdout",
     "output_type": "stream",
     "text": [
      "air m1, 8gb, 256gb\n"
     ]
    }
   ],
   "source": [
    "computer.config(com1)"
   ]
  },
  {
   "cell_type": "code",
   "execution_count": 6,
   "id": "271631cd",
   "metadata": {},
   "outputs": [
    {
     "name": "stdout",
     "output_type": "stream",
     "text": [
      "air m1, 8gb, 256gb\n"
     ]
    }
   ],
   "source": [
    "com1.config()"
   ]
  },
  {
   "cell_type": "code",
   "execution_count": 8,
   "id": "20c300a2",
   "metadata": {},
   "outputs": [
    {
     "name": "stdout",
     "output_type": "stream",
     "text": [
      "in init\n",
      "in init\n",
      "air m1, 8gb, 256gb\n",
      "air m1, 8gb, 256gb\n"
     ]
    }
   ],
   "source": [
    "# here we have a special method which is denoted by __init__ \n",
    "#  *This method executes even we dont call it also if we call any other method \n",
    "#   for the same class then __init__ will also executed\n",
    "class computer:\n",
    "    def __init__(self):\n",
    "        print('in init')\n",
    "    def config(self):\n",
    "        print('air m1, 8gb, 256gb')\n",
    "com1 = computer()\n",
    "com2 = computer()\n",
    "com1.config()\n",
    "com2.config()\n",
    "# Here we can see \"in init\" is printing for 2 times because\n",
    "# we are calling the config method for 2 times for each of the object its printing 1 time"
   ]
  },
  {
   "cell_type": "code",
   "execution_count": 10,
   "id": "ad7659bb",
   "metadata": {},
   "outputs": [
    {
     "name": "stdout",
     "output_type": "stream",
     "text": [
      "configuration is  Air m1 8\n",
      "configuration is  intel 7 16\n"
     ]
    }
   ],
   "source": [
    "# up to here we worked with methods in class now we will create attributs(variables) in class\n",
    "class computer:\n",
    "    def __init__(self,cpu,ram):\n",
    "        self.cpu = cpu\n",
    "        self.ram = ram\n",
    "# Here we are using self while assigining the attribute(variable) and using it as well \n",
    "# because here self is a object and attributes for each object are different \n",
    "    def config(self):\n",
    "        print('configuration is ',self.cpu,self.ram)\n",
    "\n",
    "com1 = computer('Air m1',8)\n",
    "com2 = computer('intel 7',16)\n",
    "\n",
    "com1.config() \n",
    "com2.config()"
   ]
  },
  {
   "cell_type": "code",
   "execution_count": 19,
   "id": "5785f0b3",
   "metadata": {},
   "outputs": [
    {
     "data": {
      "text/plain": [
       "True"
      ]
     },
     "execution_count": 19,
     "metadata": {},
     "output_type": "execute_result"
    }
   ],
   "source": [
    "# Compareing objets --> for this we need to create another method in side a class \n",
    "class human:\n",
    "    def __init__(self):\n",
    "        self.name = 'mujeeb'\n",
    "        self.age = 23\n",
    "    def update(self):\n",
    "        self.age = 24\n",
    "    def compare(self,other):\n",
    "        if self.age == other.age:\n",
    "            return True\n",
    "        else:\n",
    "            return False\n",
    "h1 = human()\n",
    "h2 = human()\n",
    "h1.compare(h2)"
   ]
  },
  {
   "cell_type": "code",
   "execution_count": 20,
   "id": "b6c3cf4b",
   "metadata": {},
   "outputs": [],
   "source": [
    "# Here i am calling update method to change the age of object 2(h2)\n",
    "h2.update()"
   ]
  },
  {
   "cell_type": "code",
   "execution_count": 21,
   "id": "973e0a24",
   "metadata": {},
   "outputs": [
    {
     "data": {
      "text/plain": [
       "False"
      ]
     },
     "execution_count": 21,
     "metadata": {},
     "output_type": "execute_result"
    }
   ],
   "source": [
    "# After calling the update menthod on h2 we can see h1 is not equal to h2\n",
    "h1.compare(h2)"
   ]
  },
  {
   "cell_type": "code",
   "execution_count": 22,
   "id": "d587e2ed",
   "metadata": {},
   "outputs": [],
   "source": [
    "# And we change the value of attributs manually\n",
    "h1.age = 24"
   ]
  },
  {
   "cell_type": "code",
   "execution_count": 23,
   "id": "2144f66c",
   "metadata": {},
   "outputs": [
    {
     "data": {
      "text/plain": [
       "True"
      ]
     },
     "execution_count": 23,
     "metadata": {},
     "output_type": "execute_result"
    }
   ],
   "source": [
    "# initially age of h1 and h2 is 23 h1.compare(h2) returns --> True \n",
    "# After calling update method on h2 age of h2 becomes 24 h1.compare(h2) returns --> False\n",
    "# After changing the age of h1.age = 24 manually now age of h1 and h2 is 24 so it returns --> True\n",
    "h1.compare(h2)"
   ]
  },
  {
   "cell_type": "code",
   "execution_count": 2,
   "id": "f1226f76",
   "metadata": {},
   "outputs": [
    {
     "name": "stdout",
     "output_type": "stream",
     "text": [
      "[1, 4, 9, 16, 25]\n"
     ]
    }
   ],
   "source": [
    "l = [1,2,3,4,5]\n",
    "sq = list(map(lambda x : x**2,l))\n",
    "print(sq)"
   ]
  },
  {
   "cell_type": "code",
   "execution_count": 3,
   "id": "379495e8",
   "metadata": {},
   "outputs": [
    {
     "name": "stdout",
     "output_type": "stream",
     "text": [
      "[1, 4, 9, 16, 25]\n"
     ]
    }
   ],
   "source": [
    "sq = [i**2 for i in l]\n",
    "print(sq)"
   ]
  },
  {
   "cell_type": "code",
   "execution_count": 5,
   "id": "22349148",
   "metadata": {},
   "outputs": [
    {
     "name": "stdout",
     "output_type": "stream",
     "text": [
      "18 is not prime\n"
     ]
    }
   ],
   "source": [
    "n = 18\n",
    "for i in range(2,n//2):\n",
    "    if n%2 == 0:\n",
    "        print(n,'is not prime')\n",
    "        break\n",
    "else:\n",
    "    print(n,'is prime')\n"
   ]
  },
  {
   "cell_type": "code",
   "execution_count": null,
   "id": "d714e038",
   "metadata": {},
   "outputs": [],
   "source": [
    "pr = [for i in range(2,n//2)]"
   ]
  }
 ],
 "metadata": {
  "kernelspec": {
   "display_name": "Python 3 (ipykernel)",
   "language": "python",
   "name": "python3"
  },
  "language_info": {
   "codemirror_mode": {
    "name": "ipython",
    "version": 3
   },
   "file_extension": ".py",
   "mimetype": "text/x-python",
   "name": "python",
   "nbconvert_exporter": "python",
   "pygments_lexer": "ipython3",
   "version": "3.9.7"
  }
 },
 "nbformat": 4,
 "nbformat_minor": 5
}
